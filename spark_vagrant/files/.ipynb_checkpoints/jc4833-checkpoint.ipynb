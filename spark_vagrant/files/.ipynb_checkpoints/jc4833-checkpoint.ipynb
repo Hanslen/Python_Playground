{
 "cells": [
  {
   "cell_type": "code",
   "execution_count": 1,
   "metadata": {},
   "outputs": [],
   "source": [
    "# Part - one\n",
    "readFile = sc.wholeTextFiles ('input/*')\n",
    "def lambdaFunc(input):\n",
    "    input = input.replace('\\n','')\n",
    "    input = input.split(\" \")\n",
    "    return input\n",
    "output = readFile.flatMap(lambda f: lambdaFunc(f[1])).map(lambda word: (word, 1)).reduceByKey(lambda a, b: a+b)\n",
    "output.saveAsTextFile('output/output1')"
   ]
  },
  {
   "cell_type": "code",
   "execution_count": 2,
   "metadata": {},
   "outputs": [],
   "source": [
    "# Part - two\n",
    "from pyspark.sql import SparkSession\n",
    "from pyspark.sql import Row\n",
    "spark = SparkSession \\\n",
    "    .builder \\\n",
    "    .appName(\"Python Spark SQL basic example\") \\\n",
    "    .config(\"spark.some.config.option\", \"some-value\") \\\n",
    "    .getOrCreate()\n",
    "lines = sc.textFile('hive/purchases.txt')\n",
    "parts = lines.map(lambda l: l.split(\",\"))\n",
    "fields = parts.map(lambda p: Row(timestamp=p[0], location=p[1],category=p[2],price=float(p[3]),card=p[4]))\n",
    "schemaPurchase = spark.createDataFrame(fields)\n",
    "schemaPurchase.createOrReplaceTempView(\"purchase\")"
   ]
  },
  {
   "cell_type": "code",
   "execution_count": 3,
   "metadata": {},
   "outputs": [
    {
     "data": {
      "text/plain": [
       "[Row(avgprice=275.0677319587629)]"
      ]
     },
     "execution_count": 3,
     "metadata": {},
     "output_type": "execute_result"
    }
   ],
   "source": [
    "# What is the average price of the products that were purchased via Mastercard?\n",
    "avgmsprice = spark.sql(\"SELECT AVG(price) as avgprice FROM purchase WHERE card='MasterCard'\")\n",
    "avgmsprice.collect()"
   ]
  },
  {
   "cell_type": "code",
   "execution_count": 4,
   "metadata": {},
   "outputs": [
    {
     "data": {
      "text/plain": [
       "[Row(t='2012-03-17', totalPrice=2384.48)]"
      ]
     },
     "execution_count": 4,
     "metadata": {},
     "output_type": "execute_result"
    }
   ],
   "source": [
    "# Which date recorded the highest total sales?\n",
    "highestsale = spark.sql(\"SELECT DATE_FORMAT(timestamp, 'yyyy-MM-dd') as t, SUM(price) as totalPrice FROM purchase group by t order by totalPrice desc limit 1\")\n",
    "highestsale.collect()"
   ]
  },
  {
   "cell_type": "code",
   "execution_count": 5,
   "metadata": {},
   "outputs": [
    {
     "data": {
      "text/plain": [
       "[Row(price=0.38)]"
      ]
     },
     "execution_count": 5,
     "metadata": {},
     "output_type": "execute_result"
    }
   ],
   "source": [
    "# What is the minimum value of a product under the Computers category?\n",
    "minComputer = spark.sql(\"SELECT price FROM purchase WHERE category='Computers' order by price asc limit 1\")\n",
    "minComputer.collect()"
   ]
  },
  {
   "cell_type": "code",
   "execution_count": 6,
   "metadata": {},
   "outputs": [
    {
     "data": {
      "text/plain": [
       "[Row(category=\"Children's Clothing\"),\n",
       " Row(category='Sporting Goods'),\n",
       " Row(category='CDs'),\n",
       " Row(category='Computers'),\n",
       " Row(category='Consumer Electronics'),\n",
       " Row(category='Health and Beauty'),\n",
       " Row(category='Pet Supplies'),\n",
       " Row(category='DVDs'),\n",
       " Row(category='Baby'),\n",
       " Row(category='Crafts'),\n",
       " Row(category=\"Women's Clothing\"),\n",
       " Row(category='Video Games'),\n",
       " Row(category='Books'),\n",
       " Row(category='Music'),\n",
       " Row(category=\"Men's Clothing\"),\n",
       " Row(category='Garden'),\n",
       " Row(category='Cameras'),\n",
       " Row(category='Toys')]"
      ]
     },
     "execution_count": 6,
     "metadata": {},
     "output_type": "execute_result"
    }
   ],
   "source": [
    "# How many distinct categories of products are there?\n",
    "categories = spark.sql(\"SELECT DISTINCT(category) FROM purchase\")\n",
    "categories.collect()"
   ]
  },
  {
   "cell_type": "code",
   "execution_count": 6,
   "metadata": {},
   "outputs": [
    {
     "data": {
      "text/plain": [
       "[Row(location='Plano', totalPrice=784.96)]"
      ]
     },
     "execution_count": 6,
     "metadata": {},
     "output_type": "execute_result"
    }
   ],
   "source": [
    "# Which store location had the lowest total sales?\n",
    "locations = spark.sql(\"SELECT location, sum(price) as totalPrice FROM purchase group by location order by totalPrice asc limit 1\")\n",
    "locations.collect()"
   ]
  },
  {
   "cell_type": "code",
   "execution_count": 7,
   "metadata": {},
   "outputs": [
    {
     "name": "stdout",
     "output_type": "stream",
     "text": [
      "+-------------------+--------------+---------+------+----------+\n",
      "|          timestamp|      location| category| price|      card|\n",
      "+-------------------+--------------+---------+------+----------+\n",
      "|2012-07-20 09:59:00|Corpus Christi|      CDs|327.91|      Cash|\n",
      "|2012-03-11 17:29:00|        Durham|    Books|115.09|  Discover|\n",
      "|2012-07-31 11:43:00|     Rochester|     Toys|332.07|MasterCard|\n",
      "|2012-06-18 14:47:00|       Garland|Computers| 31.99|      Visa|\n",
      "|2012-03-27 11:40:00|         Tulsa|      CDs|452.18|  Discover|\n",
      "+-------------------+--------------+---------+------+----------+\n",
      "only showing top 5 rows\n",
      "\n"
     ]
    }
   ],
   "source": [
    "# Part - three\n",
    "purchaseFile = sc.textFile('hive/purchases.txt')\n",
    "purchases = purchaseFile.map(lambda lines:tuple(lines.split(\",\")))\n",
    "purchases.take(5)\n",
    "purchasesDF = purchases.toDF(['timestamp', 'location','category','price','card'])\n",
    "purchasesDF.show(5)\n",
    "from pyspark.sql.functions import *"
   ]
  },
  {
   "cell_type": "code",
   "execution_count": 8,
   "metadata": {},
   "outputs": [
    {
     "name": "stdout",
     "output_type": "stream",
     "text": [
      "+-----------------+\n",
      "|       avg(price)|\n",
      "+-----------------+\n",
      "|275.0677319587629|\n",
      "+-----------------+\n",
      "\n"
     ]
    }
   ],
   "source": [
    "# What is the average price of the products that were purchased via Mastercard?\n",
    "purchasesDF.filter(purchasesDF.card == 'MasterCard').agg(avg(col('price'))).show()"
   ]
  },
  {
   "cell_type": "code",
   "execution_count": 9,
   "metadata": {},
   "outputs": [
    {
     "name": "stdout",
     "output_type": "stream",
     "text": [
      "+----------+----------+\n",
      "|      date|sum(price)|\n",
      "+----------+----------+\n",
      "|2012-03-17|   2384.48|\n",
      "+----------+----------+\n",
      "only showing top 1 row\n",
      "\n"
     ]
    }
   ],
   "source": [
    "# Which date recorded the highest total sales?\n",
    "purchasesDF.select(date_format(col(\"timestamp\"),\"yyyy-MM-dd\").alias(\"date\"), col(\"price\")).groupBy(col(\"date\")).agg(sum(col(\"price\"))).sort(col(\"sum(price)\").desc()).show(1)"
   ]
  },
  {
   "cell_type": "code",
   "execution_count": 10,
   "metadata": {},
   "outputs": [
    {
     "name": "stdout",
     "output_type": "stream",
     "text": [
      "+-------------------+---------+---------+-----+----+\n",
      "|          timestamp| location| category|price|card|\n",
      "+-------------------+---------+---------+-----+----+\n",
      "|2012-05-30 13:26:00|St. Louis|Computers| 0.38|Amex|\n",
      "+-------------------+---------+---------+-----+----+\n",
      "only showing top 1 row\n",
      "\n"
     ]
    }
   ],
   "source": [
    "# What is the minimum value of a product under the Computers category?\n",
    "purchasesDF.filter(purchasesDF.category == 'Computers').sort(col(\"price\")).show(1)"
   ]
  },
  {
   "cell_type": "code",
   "execution_count": 11,
   "metadata": {},
   "outputs": [
    {
     "name": "stdout",
     "output_type": "stream",
     "text": [
      "+--------------------+\n",
      "|            category|\n",
      "+--------------------+\n",
      "| Children's Clothing|\n",
      "|      Sporting Goods|\n",
      "|                 CDs|\n",
      "|           Computers|\n",
      "|Consumer Electronics|\n",
      "|   Health and Beauty|\n",
      "|        Pet Supplies|\n",
      "|                DVDs|\n",
      "|                Baby|\n",
      "|              Crafts|\n",
      "|    Women's Clothing|\n",
      "|         Video Games|\n",
      "|               Books|\n",
      "|               Music|\n",
      "|      Men's Clothing|\n",
      "|              Garden|\n",
      "|             Cameras|\n",
      "|                Toys|\n",
      "+--------------------+\n",
      "\n"
     ]
    }
   ],
   "source": [
    "# How many distinct categories of products are there?\n",
    "purchasesDF.select(purchasesDF.category).distinct().show()"
   ]
  },
  {
   "cell_type": "code",
   "execution_count": 12,
   "metadata": {},
   "outputs": [
    {
     "name": "stdout",
     "output_type": "stream",
     "text": [
      "+--------+----------+\n",
      "|location|sum(price)|\n",
      "+--------+----------+\n",
      "|   Plano|    784.96|\n",
      "+--------+----------+\n",
      "only showing top 1 row\n",
      "\n"
     ]
    }
   ],
   "source": [
    "# Which store location had the lowest total sales?\n",
    "purchasesDF.groupBy(\"location\").agg(sum(col(\"price\"))).sort(col(\"sum(price)\")).show(1)"
   ]
  }
 ],
 "metadata": {
  "kernelspec": {
   "display_name": "Python 3",
   "language": "python",
   "name": "python3"
  },
  "language_info": {
   "codemirror_mode": {
    "name": "ipython",
    "version": 3
   },
   "file_extension": ".py",
   "mimetype": "text/x-python",
   "name": "python",
   "nbconvert_exporter": "python",
   "pygments_lexer": "ipython3",
   "version": "3.6.1"
  }
 },
 "nbformat": 4,
 "nbformat_minor": 2
}
