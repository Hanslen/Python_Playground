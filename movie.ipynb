{
 "cells": [
  {
   "cell_type": "code",
   "execution_count": 2,
   "metadata": {
    "collapsed": true
   },
   "outputs": [],
   "source": [
    "import os\n",
    "import sys\n",
    "import re\n",
    "import random\n",
    "from pyspark import SparkContext\n",
    "from pyspark.sql import SQLContext\n",
    "from pyspark.sql.types import *\n",
    "from pyspark.sql import Row\n",
    "from pyspark.sql.functions import *\n",
    "\n",
    "%matplotlib inline\n",
    "import matplotlib.pyplot as plt\n",
    "import pandas as pd\n",
    "import numpy as np\n",
    "from time import time\n",
    "\n",
    "sqlContext = SQLContext(sc)\n",
    "base = \"/datasets/lastfm/\""
   ]
  },
  {
   "cell_type": "code",
   "execution_count": 8,
   "metadata": {},
   "outputs": [],
   "source": [
    "userArtistDataSchema  = StructType([ \\\n",
    "    StructField(\"userID\", LongType(), True), \\\n",
    "    StructField(\"artistID\", LongType(), True), \\\n",
    "    StructField(\"playCount\", IntegerType(), True)])"
   ]
  },
  {
   "cell_type": "code",
   "execution_count": 10,
   "metadata": {},
   "outputs": [],
   "source": [
    "userArtistDF = sqlContext.read \\\n",
    "    .format('com.databricks.spark.csv') \\\n",
    "    .options(header='false', delimiter=' ') \\\n",
    "    .load(\"user_artist_data.txt\", schema = userArtistDataSchema) \\\n",
    "    .cache()"
   ]
  },
  {
   "cell_type": "code",
   "execution_count": 11,
   "metadata": {},
   "outputs": [
    {
     "data": {
      "text/plain": [
       "DataFrame[userID: bigint, artistID: bigint, playCount: int]"
      ]
     },
     "execution_count": 11,
     "metadata": {},
     "output_type": "execute_result"
    }
   ],
   "source": [
    "userArtistDF.cache()"
   ]
  },
  {
   "cell_type": "code",
   "execution_count": 13,
   "metadata": {},
   "outputs": [
    {
     "name": "stdout",
     "output_type": "stream",
     "text": [
      "+-------+--------+---------+\n",
      "| userID|artistID|playCount|\n",
      "+-------+--------+---------+\n",
      "|1000002|       1|       55|\n",
      "|1000002| 1000006|       33|\n",
      "|1000002| 1000007|        8|\n",
      "|1000002| 1000009|      144|\n",
      "|1000002| 1000010|      314|\n",
      "|1000002| 1000013|        8|\n",
      "|1000002| 1000014|       42|\n",
      "|1000002| 1000017|       69|\n",
      "|1000002| 1000024|      329|\n",
      "|1000002| 1000025|        1|\n",
      "|1000002| 1000028|       17|\n",
      "|1000002| 1000031|       47|\n",
      "|1000002| 1000033|       15|\n",
      "|1000002| 1000042|        1|\n",
      "|1000002| 1000045|        1|\n",
      "|1000002| 1000054|        2|\n",
      "|1000002| 1000055|       25|\n",
      "|1000002| 1000056|        4|\n",
      "|1000002| 1000059|        2|\n",
      "|1000002| 1000062|       71|\n",
      "+-------+--------+---------+\n",
      "only showing top 20 rows\n",
      "\n"
     ]
    }
   ],
   "source": [
    "userArtistDF.show()"
   ]
  },
  {
   "cell_type": "code",
   "execution_count": 14,
   "metadata": {},
   "outputs": [
    {
     "name": "stdout",
     "output_type": "stream",
     "text": [
      "Total n. of users:  148111\n"
     ]
    }
   ],
   "source": [
    "uniqueUsers = userArtistDF.select(\"userID\").distinct().count()\n",
    "print(\"Total n. of users: \", uniqueUsers)"
   ]
  },
  {
   "cell_type": "code",
   "execution_count": 16,
   "metadata": {},
   "outputs": [
    {
     "name": "stdout",
     "output_type": "stream",
     "text": [
      "Total n. of artists:  1631028\n"
     ]
    }
   ],
   "source": [
    "uniqueArtists  = userArtistDF.select(\"artistID\").distinct().count()\n",
    "print(\"Total n. of artists: \", uniqueArtists)"
   ]
  },
  {
   "cell_type": "code",
   "execution_count": 19,
   "metadata": {},
   "outputs": [
    {
     "name": "stdout",
     "output_type": "stream",
     "text": [
      "+-------+------------------+------------------+------------------+\n",
      "|summary|            userID|          artistID|         playCount|\n",
      "+-------+------------------+------------------+------------------+\n",
      "|  count|          24296858|          24296858|          24296858|\n",
      "|   mean|1947573.2653533637|1718704.0937568964| 15.29576248089362|\n",
      "| stddev| 496000.5551820078|2539389.0924284607|153.91532446979554|\n",
      "|    min|                90|                 1|                 1|\n",
      "|    max|           2443548|          10794401|            439771|\n",
      "+-------+------------------+------------------+------------------+\n",
      "\n"
     ]
    }
   ],
   "source": [
    "userArtistDF.describe().show()"
   ]
  },
  {
   "cell_type": "code",
   "execution_count": 21,
   "metadata": {},
   "outputs": [
    {
     "data": {
      "text/plain": [
       "[Row(userID=1000061, sum(playCount)=244),\n",
       " Row(userID=1000070, sum(playCount)=20200),\n",
       " Row(userID=1000313, sum(playCount)=201),\n",
       " Row(userID=1000832, sum(playCount)=1064),\n",
       " Row(userID=1000905, sum(playCount)=214)]"
      ]
     },
     "execution_count": 21,
     "metadata": {},
     "output_type": "execute_result"
    }
   ],
   "source": [
    "# Compute user activity# Compu \n",
    "# We are interested in how many playcounts each user has scored.\n",
    "userActivity = userArtistDF.groupBy(\"userID\").sum(\"playCount\").collect()\n",
    "userActivity[0:5]"
   ]
  },
  {
   "cell_type": "code",
   "execution_count": 23,
   "metadata": {},
   "outputs": [
    {
     "name": "stdout",
     "output_type": "stream",
     "text": [
      "[     0      1      2 ..., 148108 148109 148110]\n"
     ]
    },
    {
     "data": {
      "image/png": "[encoded data removed]",
      "text/plain": [
       "<matplotlib.figure.Figure at 0x11892be80>"
      ]
     },
     "metadata": {},
     "output_type": "display_data"
    }
   ],
   "source": [
    "pdf = pd.DataFrame(data=userActivity)\n",
    "Y=np.sort( pdf[1] )\n",
    "yvals=np.arange(len(Y))/float(len(Y))\n",
    "\n",
    "print(np.arange(len(Y)))\n",
    "\n",
    "plt.plot( Y, yvals )\n",
    "plt.xlabel('Play Counts')\n",
    "plt.xlim(0,10000)   # We shrink the window \n",
    "plt.ylabel('ECDF')\n",
    "plt.grid(True,which=\"both\",ls=\"-\")\n",
    "plt.title('ECDF of number of play counts per User ID')\n",
    "plt.show()"
   ]
  },
  {
   "cell_type": "code",
   "execution_count": 25,
   "metadata": {},
   "outputs": [
    {
     "name": "stdout",
     "output_type": "stream",
     "text": [
      "3.0 percent of the users has less than:  4  play counts\n",
      "10.0 percent of the users has less than:  34  play counts\n",
      "25.0 percent of the users has less than:  204  play counts\n",
      "50.0 percent of the users has less than:  892  play counts\n",
      "75.0 percent of the users has less than:  2800  play counts\n",
      "90.0 percent of the users has less than:  6484  play counts\n"
     ]
    }
   ],
   "source": [
    "# Additional relevant code\n",
    "percentiles = [0.03, 0.10, 0.25, 0.50, 0.75, 0.90]\n",
    "for p in percentiles:\n",
    "    i = np.where(yvals<=p)[0][-1]    \n",
    "    print(str(p*100),\"percent of the users has less than: \",Y[i],\" play counts\")"
   ]
  },
  {
   "cell_type": "code",
   "execution_count": 27,
   "metadata": {
    "collapsed": true
   },
   "outputs": [],
   "source": [
    "# Compute artist popularity\n",
    "# We are interested in how many playcounts per artist\n",
    "# ATTENTION! Grouping by artistID may be problematic, as stated above.\n",
    "\n",
    "artistPopularity = userArtistDF.groupby(\"artistID\").sum(\"playCount\").collect()"
   ]
  },
  {
   "cell_type": "code",
   "execution_count": 28,
   "metadata": {},
   "outputs": [
    {
     "name": "stdout",
     "output_type": "stream",
     "text": [
      "[      0       1       2 ..., 1631025 1631026 1631027]\n"
     ]
    },
    {
     "data": {
      "image/png": "[encoded data removed]",
      "text/plain": [
       "<matplotlib.figure.Figure at 0x10ba9b7b8>"
      ]
     },
     "metadata": {},
     "output_type": "display_data"
    }
   ],
   "source": [
    "pdf = pd.DataFrame(data=artistPopularity)\n",
    "Y=np.sort( pdf[1] )\n",
    "yvals=np.arange(len(Y))/float(len(Y))\n",
    "\n",
    "print(np.arange(len(Y)))\n",
    "\n",
    "plt.plot( Y, yvals )\n",
    "plt.xlabel('Play Counts')\n",
    "plt.xlim(0,100)\n",
    "plt.ylabel('ECDF')\n",
    "plt.grid(True,which=\"both\",ls=\"-\")\n",
    "plt.title('ECDF of number of play counts per Artist ID')\n",
    "plt.show()"
   ]
  },
  {
   "cell_type": "code",
   "execution_count": 29,
   "metadata": {},
   "outputs": [
    {
     "name": "stdout",
     "output_type": "stream",
     "text": [
      "25.0 percent of the artists has less than:  1  play counts\n",
      "50.0 percent of the artists has less than:  3  play counts\n",
      "75.0 percent of the artists has less than:  11  play counts\n",
      "90.0 percent of the artists has less than:  45  play counts\n",
      "95.0 percent of the artists has less than:  126  play counts\n",
      "99.0 percent of the artists has less than:  1402  play counts\n"
     ]
    }
   ],
   "source": [
    "# Additional relevant code\n",
    "percentiles = [0.25, 0.50, 0.75, 0.90, 0.95, 0.99]\n",
    "for p in percentiles:\n",
    "    i = np.where(yvals<=p)[0][-1]    \n",
    "    print(str(p*100),\"percent of the artists has less than: \",Y[i],\" play counts\")"
   ]
  },
  {
   "cell_type": "code",
   "execution_count": 38,
   "metadata": {},
   "outputs": [],
   "source": [
    "# Additional relevant code# Additi \n",
    "artistPopularityCounts = userArtistDF.groupBy(\"artistID\").\\\n",
    "                    sum(\"playCount\").orderBy(\"sum(playCount)\").rdd.map(lambda r:r[1]).collect()"
   ]
  },
  {
   "cell_type": "code",
   "execution_count": 40,
   "metadata": {},
   "outputs": [
    {
     "name": "stdout",
     "output_type": "stream",
     "text": [
      "[      0       1       2 ..., 1631025 1631026 1631027]\n"
     ]
    }
   ],
   "source": [
    "for i in range(1,len(artistPopularityCounts)):\n",
    "    artistPopularityCounts[i] += artistPopularityCounts[i-1]\n",
    "artistPopularityCountsReversed = list(reversed(artistPopularityCounts))\n",
    "pdf = pd.DataFrame(data=artistPopularityCountsReversed)\n",
    "Y=pdf[0]\n",
    "yvals=np.arange(len(Y))/float(len(Y))\n",
    "\n",
    "print(np.arange(len(Y)))"
   ]
  },
  {
   "cell_type": "code",
   "execution_count": 41,
   "metadata": {},
   "outputs": [
    {
     "data": {
      "image/png": "[encoded data removed]",
      "text/plain": [
       "<matplotlib.figure.Figure at 0x11669fe10>"
      ]
     },
     "metadata": {},
     "output_type": "display_data"
    }
   ],
   "source": [
    "plt.plot(Y, yvals )\n",
    "plt.xlabel('Number of aggregated play counts')\n",
    "plt.ylabel('ECDF')\n",
    "plt.grid(True,which=\"both\",ls=\"-\")\n",
    "plt.title('ECDF of number of artists per aggregated play counts')\n",
    "plt.show()"
   ]
  },
  {
   "cell_type": "code",
   "execution_count": 42,
   "metadata": {},
   "outputs": [
    {
     "name": "stdout",
     "output_type": "stream",
     "text": [
      "Total n. of play counts:  371,638,969\n",
      "25.0 percent of the artists account for:  83,133,497,161  play counts\n",
      "-->The top  75 percent of the artists account for:  -82,761,858,192  play counts\n",
      "-->The top  75 percent of the artists account for:  -22269.4241174  percent of the play counts\n",
      "\n",
      "50.0 percent of the artists account for:  376,553,537,377  play counts\n",
      "-->The top  50 percent of the artists account for:  -376,181,898,408  play counts\n",
      "-->The top  50 percent of the artists account for:  -101222.403942  percent of the play counts\n",
      "\n",
      "75.0 percent of the artists account for:  1,217,762,585,795  play counts\n",
      "-->The top  25 percent of the artists account for:  -1,217,390,946,826  play counts\n",
      "-->The top  25 percent of the artists account for:  -327573.545396  percent of the play counts\n",
      "\n",
      "90.0 percent of the artists account for:  2,555,741,265,462  play counts\n",
      "-->The top  9 percent of the artists account for:  -2,555,369,626,493  play counts\n",
      "-->The top  9 percent of the artists account for:  -687594.638789  percent of the play counts\n",
      "\n",
      "95.0 percent of the artists account for:  3,472,177,127,717  play counts\n",
      "-->The top  5 percent of the artists account for:  -3,471,805,488,748  play counts\n",
      "-->The top  5 percent of the artists account for:  -934187.687069  percent of the play counts\n",
      "\n",
      "99.0 percent of the artists account for:  4,945,869,218,643  play counts\n",
      "-->The top  1 percent of the artists account for:  -4,945,497,579,674  play counts\n",
      "-->The top  1 percent of the artists account for:  -1330726.32103  percent of the play counts\n",
      "\n"
     ]
    }
   ],
   "source": [
    "# Additional relevant code\n",
    "# We keep in mind that many artistID are mispelled\n",
    "pdf = pd.DataFrame(data=artistPopularityCounts)\n",
    "Y=pdf[0]\n",
    "playCountsTotal = userArtistDF.groupBy().sum(\"playCount\").collect()[0][0]\n",
    "print(\"Total n. of play counts: \", \"{:,}\".format(playCountsTotal))\n",
    "      \n",
    "percentiles = [0.25, 0.50, 0.750, 0.900, 0.950, 0.990]\n",
    "for p in percentiles:\n",
    "    i = np.where(yvals<=p)[0][-1]\n",
    "    print(str(p*100),\"percent of the artists account for: \",\"{:,}\".format(Y[i]),\" play counts\")\n",
    "    print(\"-->The top \",str(int((1-p)*100)),\"percent of the artists account for: \",\"{:,}\".\\\n",
    "          format(playCountsTotal-Y[i]),\" play counts\")\n",
    "    print(\"-->The top \",str(int((1-p)*100)),\"percent of the artists account for: \", \\\n",
    "          (playCountsTotal-Y[i])/playCountsTotal*100,\" percent of the play counts\")\n",
    "    print()"
   ]
  },
  {
   "cell_type": "code",
   "execution_count": 45,
   "metadata": {},
   "outputs": [
    {
     "data": {
      "image/png": "[encoded data removed]",
      "text/plain": [
       "<matplotlib.figure.Figure at 0x1166b47b8>"
      ]
     },
     "metadata": {},
     "output_type": "display_data"
    }
   ],
   "source": [
    "\n",
    "sortedArtist  = sorted(artistPopularity, key = lambda x: -x[1])[: 10]\n",
    "\n",
    "artistID = [w[0] for w in sortedArtist]\n",
    "\n",
    "y_pos = range(len(sortedArtist))\n",
    "frequency = [w[1] for w in sortedArtist]\n",
    "\n",
    "plt.barh(y_pos, frequency[::-1], align='center', alpha=0.4)\n",
    "plt.yticks(y_pos, artistID[::-1])\n",
    "plt.xlabel('Play Count')\n",
    "plt.ylabel('Artist')\n",
    "plt.title('Top-10 Artist ID per play counts')\n",
    "plt.show()"
   ]
  },
  {
   "cell_type": "code",
   "execution_count": 46,
   "metadata": {},
   "outputs": [
    {
     "name": "stdout",
     "output_type": "stream",
     "text": [
      "Total n. of users:  148111\n",
      "Total n. of artists:  1631028\n",
      "Total play counts:  371,638,969\n",
      "Mean play counts per user:  2509.1922206993404\n",
      "Mean play counts per artist:  227.85566464830768\n"
     ]
    }
   ],
   "source": [
    "\n",
    "# Additional relevant code# Additi \n",
    "print(\"Total n. of users: \", uniqueUsers)\n",
    "print(\"Total n. of artists: \", uniqueArtists)\n",
    "print(\"Total play counts: \", \"{:,}\".format(playCountsTotal))\n",
    "\n",
    "print(\"Mean play counts per user: \", playCountsTotal/uniqueUsers)\n",
    "print(\"Mean play counts per artist: \", playCountsTotal/uniqueArtists)"
   ]
  },
  {
   "cell_type": "code",
   "execution_count": 48,
   "metadata": {},
   "outputs": [
    {
     "name": "stdout",
     "output_type": "stream",
     "text": [
      "+--------+--------------------+\n",
      "|artistID|                name|\n",
      "+--------+--------------------+\n",
      "| 1134999|        06Crazy Life|\n",
      "| 6821360|        Pang Nakarin|\n",
      "|10113088|Terfel, Bartoli- ...|\n",
      "|10151459| The Flaming Sidebur|\n",
      "| 6826647|   Bodenstandig 3000|\n",
      "+--------+--------------------+\n",
      "only showing top 5 rows\n",
      "\n"
     ]
    }
   ],
   "source": [
    "customSchemaArtist = StructType([ \\\n",
    "    StructField(\"artistID\", LongType(), True), \\\n",
    "    StructField(\"name\", StringType(), True)])\n",
    "\n",
    "artistDF = sqlContext.read \\\n",
    "    .format('com.databricks.spark.csv') \\\n",
    "    .options(header='false', delimiter='\\t', mode='DROPMALFORMED') \\\n",
    "    .load(\"artist_data.txt\", schema = customSchemaArtist) \\\n",
    "    .cache()\n",
    "    \n",
    "artistDF.show(5)"
   ]
  },
  {
   "cell_type": "code",
   "execution_count": 49,
   "metadata": {},
   "outputs": [
    {
     "name": "stdout",
     "output_type": "stream",
     "text": [
      "+--------+----------------------------------------------+\n",
      "|artistID|name                                          |\n",
      "+--------+----------------------------------------------+\n",
      "|10586006|Dusty Springfield/Aerosmith                   |\n",
      "|6946007 |Aerosmith/RunDMC                              |\n",
      "|10475683|Aerosmith: Just Push Play                     |\n",
      "|1083031 |Aerosmith/ G n R                              |\n",
      "|6872848 |Britney, Nsync, Nelly, Aerosmith,Mary J Blige.|\n",
      "|10586963|Green Day - Oasis - Eminem - Aerosmith        |\n",
      "|10028830|The Aerosmith Antology2                       |\n",
      "|10300357|Run-DMC + Aerosmith                           |\n",
      "|2027746 |Aerosmith by MusicInter.com                   |\n",
      "|1140418 |[rap]Run DMC and Aerosmith                    |\n",
      "|10237208|Aerosmith + Run DMC                           |\n",
      "|10588537|Aerosmith, Kid Rock, & Run DMC                |\n",
      "|9934757 |Aerosmith - Big Ones                          |\n",
      "|10437510|Green Day ft. Oasis & Aerosmith               |\n",
      "|6936680 |RUN DNC & Aerosmith                           |\n",
      "|10479781|Aerosmith Hits                                |\n",
      "|10114147|Charlies Angels - Aerosmith                   |\n",
      "|1262439 |Kid Rock, Run DMC & Aerosmith                 |\n",
      "|7032554 |Aerosmith & Run-D.M.C.                        |\n",
      "|10033592|Aerosmith?                                    |\n",
      "+--------+----------------------------------------------+\n",
      "only showing top 20 rows\n",
      "\n",
      "+--------+---------+\n",
      "|artistID|     name|\n",
      "+--------+---------+\n",
      "| 1000010|Aerosmith|\n",
      "+--------+---------+\n",
      "\n",
      "+--------+------------+\n",
      "|artistID|        name|\n",
      "+--------+------------+\n",
      "| 2082323|01 Aerosmith|\n",
      "+--------+------------+\n",
      "\n"
     ]
    }
   ],
   "source": [
    "# get artists whose name contains \"Aerosmith\"\n",
    "artistDF[locate(\"Aerosmith\", artistDF.name) > 0].show(20,False)\n",
    "\n",
    "# show two examples\n",
    "artistDF[artistDF.artistID==1000010].show()\n",
    "artistDF[artistDF.artistID==2082323].show()\n"
   ]
  },
  {
   "cell_type": "code",
   "execution_count": 50,
   "metadata": {},
   "outputs": [
    {
     "name": "stdout",
     "output_type": "stream",
     "text": [
      "Artist rank  1  : Radiohead\n",
      "Artist rank  2  : The Beatles\n",
      "Artist rank  3  : Green Day\n",
      "Artist rank  4  : Metallica\n",
      "Artist rank  5  : System of a Down\n",
      "Artist rank  6  : Pink Floyd\n",
      "Artist rank  7  : Nine Inch Nails\n",
      "Artist rank  8  : Modest Mouse\n",
      "Artist rank  9  : Bright Eyes\n",
      "Artist rank  10  : Nirvana\n"
     ]
    },
    {
     "data": {
      "image/png": "[encoded data removed]",
      "text/plain": [
       "<matplotlib.figure.Figure at 0x11839beb8>"
      ]
     },
     "metadata": {},
     "output_type": "display_data"
    }
   ],
   "source": [
    "\n",
    "# Additional infos, see who are the top-10 artist names# Additi \n",
    "artistNames = []\n",
    "for (i,artistID) in enumerate([s[0] for s in sortedArtist[0:10]]):\n",
    "    artistNames.append(artistDF[artistDF.artistID==artistID].collect()[0][1])\n",
    "    print(\"Artist rank \", i+1, \" :\", artistNames[i])\n",
    "sortedArtist = sorted(artistPopularity, key = lambda x: -x[1])[: 10]\n",
    "\n",
    "artistID = [w[0] for w in sortedArtist]\n",
    "\n",
    "y_pos = range(len(sortedArtist))\n",
    "frequency = [w[1] for w in sortedArtist]\n",
    "\n",
    "plt.barh(y_pos, frequency[::-1], align='center', alpha=0.4)\n",
    "plt.yticks(y_pos, artistNames[::-1])\n",
    "plt.xlabel('Play Count')\n",
    "plt.ylabel('Artist')\n",
    "plt.title('Top-10 Artist ID per play counts')\n",
    "plt.show()"
   ]
  },
  {
   "cell_type": "code",
   "execution_count": 52,
   "metadata": {},
   "outputs": [
    {
     "name": "stdout",
     "output_type": "stream",
     "text": [
      "+-----------+----------+\n",
      "|mispelledID|standardID|\n",
      "+-----------+----------+\n",
      "|    1092764|   1000311|\n",
      "|    1095122|   1000557|\n",
      "|    6708070|   1007267|\n",
      "|   10088054|   1042317|\n",
      "|    1195917|   1042317|\n",
      "+-----------+----------+\n",
      "only showing top 5 rows\n",
      "\n"
     ]
    }
   ],
   "source": [
    "customSchemaArtistAlias = StructType([ \\\n",
    "    StructField(\"mispelledID\", LongType(), True), \\\n",
    "    StructField(\"standardID\",LongType(), True)])\n",
    "\n",
    "artistAliasDF = sqlContext.read \\\n",
    "    .format('com.databricks.spark.csv') \\\n",
    "    .options(header='false', delimiter='\\t', mode='DROPMALFORMED') \\\n",
    "    .load(\"artist_alias.txt\", schema = customSchemaArtistAlias) \\\n",
    "    .cache()\n",
    "\n",
    "artistAliasDF.show(5)"
   ]
  },
  {
   "cell_type": "code",
   "execution_count": 53,
   "metadata": {},
   "outputs": [
    {
     "name": "stdout",
     "output_type": "stream",
     "text": [
      "+-----------+----------+\n",
      "|mispelledID|standardID|\n",
      "+-----------+----------+\n",
      "+-----------+----------+\n",
      "\n",
      "+-----------+----------+\n",
      "|mispelledID|standardID|\n",
      "+-----------+----------+\n",
      "|    2082323|   1000010|\n",
      "+-----------+----------+\n",
      "\n"
     ]
    }
   ],
   "source": [
    "artistAliasDF[artistAliasDF.mispelledID==1000010].show()\n",
    "artistAliasDF[artistAliasDF.mispelledID==2082323].show()\n",
    "\n",
    "# 1000010 is a standard id, so it haven't been considered as mispelled id in the dataset"
   ]
  },
  {
   "cell_type": "code",
   "execution_count": 55,
   "metadata": {},
   "outputs": [],
   "source": [
    "def  is_standard (id1):\n",
    "    \"\"\"Return True is the ID is not in the mispelledID column of artistAliasDF\"\"\"\n",
    "    if artistAliasDF[artistAliasDF.mispelledID==id1].collect()==[]:\n",
    "        return True\n",
    "    else:\n",
    "        return False"
   ]
  },
  {
   "cell_type": "code",
   "execution_count": 56,
   "metadata": {},
   "outputs": [
    {
     "data": {
      "text/plain": [
       "True"
      ]
     },
     "execution_count": 56,
     "metadata": {},
     "output_type": "execute_result"
    }
   ],
   "source": [
    "name1 = \"Green Day - Oasis - Eminem - Aerosmith\"\n",
    "id1 = artistDF[artistDF.name==name1].first().artistID\n",
    "is_standard(id1)"
   ]
  },
  {
   "cell_type": "code",
   "execution_count": 60,
   "metadata": {},
   "outputs": [
    {
     "name": "stdout",
     "output_type": "stream",
     "text": [
      "1  user(s) listen to  Green Day - Oasis - Eminem - Aerosmith\n"
     ]
    }
   ],
   "source": [
    "print(userArtistDF [userArtistDF.artistID==id1].count(), \" user(s) listen to \", name1)"
   ]
  },
  {
   "cell_type": "code",
   "execution_count": 61,
   "metadata": {},
   "outputs": [
    {
     "name": "stdout",
     "output_type": "stream",
     "text": [
      "+--------+-------+---------+--------------------------------------+\n",
      "|artistID|userID |playCount|name                                  |\n",
      "+--------+-------+---------+--------------------------------------+\n",
      "|10586963|2359019|2        |Green Day - Oasis - Eminem - Aerosmith|\n",
      "|1000010 |2359019|1        |Aerosmith                             |\n",
      "+--------+-------+---------+--------------------------------------+\n",
      "\n",
      "+--------+-------+---------+--------------------------------------+\n",
      "|artistID|userID |playCount|name                                  |\n",
      "+--------+-------+---------+--------------------------------------+\n",
      "|10586963|2359019|2        |Green Day - Oasis - Eminem - Aerosmith|\n",
      "|4267    |2359019|49       |Green Day                             |\n",
      "+--------+-------+---------+--------------------------------------+\n",
      "\n",
      "+--------+-------+---------+--------------------------------------+\n",
      "|artistID|userID |playCount|name                                  |\n",
      "+--------+-------+---------+--------------------------------------+\n",
      "|10586963|2359019|2        |Green Day - Oasis - Eminem - Aerosmith|\n",
      "|1259    |2359019|3        |Oasis                                 |\n",
      "+--------+-------+---------+--------------------------------------+\n",
      "\n",
      "+--------+-------+---------+--------------------------------------+\n",
      "|artistID|userID |playCount|name                                  |\n",
      "+--------+-------+---------+--------------------------------------+\n",
      "|10586963|2359019|2        |Green Day - Oasis - Eminem - Aerosmith|\n",
      "+--------+-------+---------+--------------------------------------+\n",
      "\n"
     ]
    }
   ],
   "source": [
    "userArtistDF[userArtistDF.artistID==id1].collect()\n",
    "strangeUserID=userArtistDF[userArtistDF.artistID==id1].first().userID\n",
    "strangeUserActivity = userArtistDF[userArtistDF.userID==strangeUserID]\n",
    "strangeUserActivityWithNames = strangeUserActivity.join(artistDF, on=\"artistID\")\n",
    "strangeUserActivityWithNames[locate(\"Aerosmith\", strangeUserActivityWithNames.name)>0].show(truncate=False)\n",
    "strangeUserActivityWithNames[locate(\"Green Day\", strangeUserActivityWithNames.name)>0].show(truncate=False)\n",
    "strangeUserActivityWithNames[locate(\"Oasis\", strangeUserActivityWithNames.name)>0].show(truncate=False)\n",
    "strangeUserActivityWithNames[locate(\"Eminem\", strangeUserActivityWithNames.name)>0].show(truncate=False)\n"
   ]
  },
  {
   "cell_type": "code",
   "execution_count": 64,
   "metadata": {},
   "outputs": [],
   "source": [
    "\n",
    "artistAlias  = artistAliasDF.rdd.map(lambda row: (row.mispelledID, row.standardID)).collectAsMap()\n"
   ]
  },
  {
   "cell_type": "code",
   "execution_count": 65,
   "metadata": {},
   "outputs": [
    {
     "name": "stdout",
     "output_type": "stream",
     "text": [
      "+-------+--------+---------+\n",
      "| userID|artistID|playCount|\n",
      "+-------+--------+---------+\n",
      "|1000002|       1|       55|\n",
      "|1000002| 1000006|       33|\n",
      "|1000002| 1000007|        8|\n",
      "|1000002| 1000009|      144|\n",
      "|1000002| 1000010|      314|\n",
      "+-------+--------+---------+\n",
      "only showing top 5 rows\n",
      "\n",
      "The script takes 0.940874 seconds\n"
     ]
    }
   ],
   "source": [
    "from time import time\n",
    "def replaceMispelledIDs (fields):\n",
    "    finalID = artistAlias.get(fields[1], fields[1])\n",
    "    return (fields[0], finalID, fields[2])\n",
    "\n",
    "t0 = time()\n",
    "\n",
    "newUserArtistDF = sqlContext.createDataFrame(\n",
    "    userArtistDF.rdd.map(replaceMispelledIDs), \n",
    "    userArtistDataSchema\n",
    ")\n",
    "newUserArtistDF.show(5)\n",
    "\n",
    "t1 = time()\n",
    "\n",
    "print('The script takes %f seconds' %(t1-t0))"
   ]
  },
  {
   "cell_type": "code",
   "execution_count": 66,
   "metadata": {
    "collapsed": true
   },
   "outputs": [],
   "source": [
    "# Additional code\n",
    "def scan_artist(artistID):\n",
    "    \"\"\"Print some information about the artist given \n",
    "    It shows that several entries (user,artist,) exist in newUserArtistDF\n",
    "    Example: scan_artist(1000010)\"\"\"\n",
    "    artistNameDF = newUserArtistDF.where(newUserArtistDF.artistID==artistID).cache()\n",
    "    artist = artistDF[artistDF.artistID==artistID].first()\n",
    "    mispelled = artistAliasDF[artistAliasDF.standardID==artistID].count()\n",
    "    artistDF[locate(artist.name, artistDF.name) >0].count()\n",
    "    if artistNameDF is None or artist is None:\n",
    "        print(\"The ID provided is not valid, please provide a valid ID\")\n",
    "        return\n",
    "    print(\"Id : \", artist.artistID, \"Artist name : \", artist.name)\n",
    "    print(mispelled, \" mispelledIDs are associated to artist \", artist.name)\n",
    "    print()\n",
    "    print(artist.name, \" appears \", artistNameDF.count(), \" times in newUserArtistDF\")\n",
    "    print(artistNameDF.select(\"userID\").distinct().count(), \" distinct users listen to \", artist.name)\n",
    "    print(artistNameDF.groupBy('userID').count().where(col(\"count\")>1).count(), \"users listen to \", \\\n",
    "          artist.name, \" through a mispelledID\")"
   ]
  },
  {
   "cell_type": "code",
   "execution_count": 67,
   "metadata": {},
   "outputs": [
    {
     "name": "stdout",
     "output_type": "stream",
     "text": [
      "Id :  1000010 Artist name :  Aerosmith\n",
      "130  mispelledIDs are associated to artist  Aerosmith\n",
      "\n",
      "Aerosmith  appears  17988  times in newUserArtistDF\n",
      "17938  distinct users listen to  Aerosmith\n",
      "46 users listen to  Aerosmith  through a mispelledID\n"
     ]
    }
   ],
   "source": [
    "scan_artist(1000010)"
   ]
  },
  {
   "cell_type": "code",
   "execution_count": 68,
   "metadata": {},
   "outputs": [
    {
     "name": "stdout",
     "output_type": "stream",
     "text": [
      "475 artist names contain Aerosmith\n",
      "130 mispelledIDs point to Aerosmith\n"
     ]
    }
   ],
   "source": [
    "print(artistDF[locate(\"Aerosmith\", artistDF.name) >0].count(), \"artist names contain Aerosmith\")\n",
    "print(artistAliasDF[artistAliasDF.standardID==1000010].count(), \"mispelledIDs point to Aerosmith\")"
   ]
  },
  {
   "cell_type": "code",
   "execution_count": 69,
   "metadata": {},
   "outputs": [
    {
     "name": "stdout",
     "output_type": "stream",
     "text": [
      "+-------+--------+---------+\n",
      "| userID|artistID|playCount|\n",
      "+-------+--------+---------+\n",
      "|1000002|       1|       55|\n",
      "|1000002| 1000006|       33|\n",
      "|1000002| 1000007|        8|\n",
      "|1000002| 1000009|      144|\n",
      "|1000002| 1000010|      314|\n",
      "+-------+--------+---------+\n",
      "only showing top 5 rows\n",
      "\n",
      "The script takes 0.145453 seconds\n"
     ]
    }
   ],
   "source": [
    "from time import time\n",
    "\n",
    "bArtistAlias = sc.broadcast(artistAlias)\n",
    "\n",
    "def replaceMispelledIDs(fields):\n",
    "    finalID = bArtistAlias.value.get(fields[1], fields[1])\n",
    "    return (fields[0], finalID, fields[2])\n",
    "\n",
    "t0 = time()\n",
    "\n",
    "newUserArtistDF = sqlContext.createDataFrame(\n",
    "    userArtistDF.rdd.map(replaceMispelledIDs), \n",
    "    userArtistDataSchema\n",
    ")\n",
    "newUserArtistDF.show(5)\n",
    "t1 = time()\n",
    "\n",
    "print('The script takes %f seconds' %(t1-t0))\n",
    "newUserArtistDF = newUserArtistDF.cache()"
   ]
  },
  {
   "cell_type": "code",
   "execution_count": 70,
   "metadata": {},
   "outputs": [
    {
     "name": "stdout",
     "output_type": "stream",
     "text": [
      "Total n. of artists:  1568126\n"
     ]
    }
   ],
   "source": [
    "uniqueArtists = newUserArtistDF.select(\"artistID\").distinct().count()\n",
    "\n",
    "print(\"Total n. of artists: \", uniqueArtists)"
   ]
  },
  {
   "cell_type": "code",
   "execution_count": 72,
   "metadata": {},
   "outputs": [
    {
     "name": "stdout",
     "output_type": "stream",
     "text": [
      "22478  artists have mispelledIDs associated, that is a small portion of the total number of unique artists\n",
      "These  22478  account for  193027  mispelled artists\n",
      "These mispelled artists account for  1,712,122  play counts that is only  0.46069496011329214  percent of the total play counts\n",
      "The artists that are the most mispelled\n",
      "Artist :  Metallica  (id:  1000024 ) has  1204  mispelled IDs associated\n",
      "Artist :  [unknown]  (id:  1034635 ) has  955  mispelled IDs associated\n",
      "Artist :  Pink Floyd  (id:  82 ) has  671  mispelled IDs associated\n",
      "Artist :  South Park  (id:  1003694 ) has  656  mispelled IDs associated\n",
      "Artist :  Linkin Park  (id:  1854 ) has  656  mispelled IDs associated\n",
      "Artist :  The Beatles  (id:  1000113 ) has  629  mispelled IDs associated\n",
      "Artist :  Eminem  (id:  930 ) has  628  mispelled IDs associated\n",
      "Artist :  Radiohead  (id:  979 ) has  620  mispelled IDs associated\n",
      "Artist :  Iron Maiden  (id:  1000107 ) has  537  mispelled IDs associated\n",
      "Artist :  Nirvana  (id:  976 ) has  536  mispelled IDs associated\n"
     ]
    }
   ],
   "source": [
    "# See which artistID is connected to the most mispelledID\n",
    "numberOfArtistsMispelled = artistAliasDF.select(\"standardID\").distinct().count()\n",
    "numberOfMispelled = artistAliasDF.count()\n",
    "\n",
    "mispelledDF = artistAliasDF.select(col(\"mispelledID\").alias(\"artistID\"))\n",
    "    \n",
    "playCountsMispelled = newUserArtistDF.join(mispelledDF, on=\"artistID\").rdd.\\\n",
    "                        map(lambda r: r[2]).reduce(lambda v1,v2: v1+v2)\n",
    "    \n",
    "print(numberOfArtistsMispelled, \" artists have mispelledIDs associated, \\\n",
    "that is a small portion of the total number of unique artists\")\n",
    "\n",
    "print(\"These \", numberOfArtistsMispelled, \" account for \", numberOfMispelled, \" mispelled artists\")\n",
    "\n",
    "print(\"These mispelled artists account for \", \"{:,}\".format(playCountsMispelled), \" play counts\", \"that is only \", \\\n",
    "     playCountsMispelled/playCountsTotal*100, \" percent of the total play counts\")\n",
    "\n",
    "mispelledArtists = artistAliasDF.groupBy(\"standardID\").count().orderBy(\"count\", ascending=0).collect()\n",
    "\n",
    "print(\"The artists that are the most mispelled\")\n",
    "for artist in mispelledArtists[:10]:\n",
    "    name = artistDF[artistDF.artistID==artist[0]].collect()[0][1]\n",
    "    print(\"Artist : \", name,\" (id: \", artist[0], \") has \", artist[1], \" mispelled IDs associated\")\n",
    "    "
   ]
  },
  {
   "cell_type": "code",
   "execution_count": 73,
   "metadata": {},
   "outputs": [
    {
     "data": {
      "image/png": "[encoded data removed]",
      "text/plain": [
       "<matplotlib.figure.Figure at 0x1183f9160>"
      ]
     },
     "metadata": {},
     "output_type": "display_data"
    }
   ],
   "source": [
    "# calculate top-10 artists in term of play counts\n",
    "top10ArtistsPC = newUserArtistDF.groupBy(\"artistID\").sum(\"playCount\").orderBy('sum(playCount)', ascending=0).take(10)\n",
    "\n",
    "y_pos = range(len(top10ArtistsPC))\n",
    "pdf = pd.DataFrame(data=top10ArtistsPC)\n",
    "\n",
    "plt.barh(y_pos, pdf[1][::-1], align='center', alpha=0.4)\n",
    "plt.yticks(range(9,-1,-1), pdf[0][::-1])\n",
    "plt.xlabel('Play Count')\n",
    "plt.ylabel('Artist')\n",
    "plt.title('Top-10 Artist ID per play counts')\n",
    "plt.show()"
   ]
  },
  {
   "cell_type": "code",
   "execution_count": 74,
   "metadata": {},
   "outputs": [
    {
     "data": {
      "text/html": [
       "<div>\n",
       "<style>\n",
       "    .dataframe thead tr:only-child th {\n",
       "        text-align: right;\n",
       "    }\n",
       "\n",
       "    .dataframe thead th {\n",
       "        text-align: left;\n",
       "    }\n",
       "\n",
       "    .dataframe tbody tr th {\n",
       "        vertical-align: top;\n",
       "    }\n",
       "</style>\n",
       "<table border=\"1\" class=\"dataframe\">\n",
       "  <thead>\n",
       "    <tr style=\"text-align: right;\">\n",
       "      <th></th>\n",
       "      <th>0</th>\n",
       "      <th>1</th>\n",
       "    </tr>\n",
       "  </thead>\n",
       "  <tbody>\n",
       "    <tr>\n",
       "      <th>0</th>\n",
       "      <td>979</td>\n",
       "      <td>2502596</td>\n",
       "    </tr>\n",
       "    <tr>\n",
       "      <th>1</th>\n",
       "      <td>1000113</td>\n",
       "      <td>2259825</td>\n",
       "    </tr>\n",
       "    <tr>\n",
       "      <th>2</th>\n",
       "      <td>4267</td>\n",
       "      <td>1931143</td>\n",
       "    </tr>\n",
       "    <tr>\n",
       "      <th>3</th>\n",
       "      <td>1000024</td>\n",
       "      <td>1543430</td>\n",
       "    </tr>\n",
       "    <tr>\n",
       "      <th>4</th>\n",
       "      <td>4468</td>\n",
       "      <td>1426254</td>\n",
       "    </tr>\n",
       "    <tr>\n",
       "      <th>5</th>\n",
       "      <td>82</td>\n",
       "      <td>1399665</td>\n",
       "    </tr>\n",
       "    <tr>\n",
       "      <th>6</th>\n",
       "      <td>831</td>\n",
       "      <td>1361977</td>\n",
       "    </tr>\n",
       "    <tr>\n",
       "      <th>7</th>\n",
       "      <td>1001779</td>\n",
       "      <td>1328969</td>\n",
       "    </tr>\n",
       "    <tr>\n",
       "      <th>8</th>\n",
       "      <td>1000130</td>\n",
       "      <td>1234773</td>\n",
       "    </tr>\n",
       "    <tr>\n",
       "      <th>9</th>\n",
       "      <td>976</td>\n",
       "      <td>1203348</td>\n",
       "    </tr>\n",
       "  </tbody>\n",
       "</table>\n",
       "</div>"
      ],
      "text/plain": [
       "         0        1\n",
       "0      979  2502596\n",
       "1  1000113  2259825\n",
       "2     4267  1931143\n",
       "3  1000024  1543430\n",
       "4     4468  1426254\n",
       "5       82  1399665\n",
       "6      831  1361977\n",
       "7  1001779  1328969\n",
       "8  1000130  1234773\n",
       "9      976  1203348"
      ]
     },
     "execution_count": 74,
     "metadata": {},
     "output_type": "execute_result"
    }
   ],
   "source": [
    "pdf # sortedArtist after fixing the mispelledIDs"
   ]
  },
  {
   "cell_type": "code",
   "execution_count": 75,
   "metadata": {},
   "outputs": [
    {
     "data": {
      "text/plain": [
       "[Row(artistID=979, sum(playCount)=2502130),\n",
       " Row(artistID=1000113, sum(playCount)=2259185),\n",
       " Row(artistID=4267, sum(playCount)=1930592),\n",
       " Row(artistID=1000024, sum(playCount)=1542806),\n",
       " Row(artistID=4468, sum(playCount)=1425942),\n",
       " Row(artistID=82, sum(playCount)=1399418),\n",
       " Row(artistID=831, sum(playCount)=1361392),\n",
       " Row(artistID=1001779, sum(playCount)=1328869),\n",
       " Row(artistID=1000130, sum(playCount)=1234387),\n",
       " Row(artistID=976, sum(playCount)=1203226)]"
      ]
     },
     "execution_count": 75,
     "metadata": {},
     "output_type": "execute_result"
    }
   ],
   "source": [
    "sortedArtist # sortedArtist before fixing the mispelledIDs"
   ]
  },
  {
   "cell_type": "code",
   "execution_count": 76,
   "metadata": {},
   "outputs": [
    {
     "data": {
      "image/png": "[encoded data removed]",
      "text/plain": [
       "<matplotlib.figure.Figure at 0x117e88e48>"
      ]
     },
     "metadata": {},
     "output_type": "display_data"
    }
   ],
   "source": [
    "\n",
    "# calculate top-10 artists in term of audience size# calcul \n",
    "top10ArtistsUC = (newUserArtistDF.dropDuplicates(['userID', 'artistID'])\n",
    "                      .groupBy(\"artistID\")\n",
    "                      .count()\n",
    "                      .orderBy(\"count\", ascending=0)\n",
    "                      .take(10)\n",
    "                  )\n",
    "\n",
    "y_pos = range(len(top10ArtistsUC))\n",
    "pdf = pd.DataFrame(data=top10ArtistsUC)\n",
    "\n",
    "plt.barh(y_pos, pdf[1][::-1], align='center', alpha=0.4)\n",
    "plt.yticks(range(9,-1,-1), pdf[0][::-1])\n",
    "plt.xlabel('User Count')\n",
    "plt.ylabel('Artist')\n",
    "plt.title('Top-10 Artist ID per audience size')\n",
    "plt.show()"
   ]
  },
  {
   "cell_type": "code",
   "execution_count": 77,
   "metadata": {},
   "outputs": [
    {
     "data": {
      "text/html": [
       "<div>\n",
       "<style>\n",
       "    .dataframe thead tr:only-child th {\n",
       "        text-align: right;\n",
       "    }\n",
       "\n",
       "    .dataframe thead th {\n",
       "        text-align: left;\n",
       "    }\n",
       "\n",
       "    .dataframe tbody tr th {\n",
       "        vertical-align: top;\n",
       "    }\n",
       "</style>\n",
       "<table border=\"1\" class=\"dataframe\">\n",
       "  <thead>\n",
       "    <tr style=\"text-align: right;\">\n",
       "      <th></th>\n",
       "      <th>0</th>\n",
       "      <th>1</th>\n",
       "    </tr>\n",
       "  </thead>\n",
       "  <tbody>\n",
       "    <tr>\n",
       "      <th>0</th>\n",
       "      <td>979</td>\n",
       "      <td>45630</td>\n",
       "    </tr>\n",
       "    <tr>\n",
       "      <th>1</th>\n",
       "      <td>4267</td>\n",
       "      <td>43883</td>\n",
       "    </tr>\n",
       "    <tr>\n",
       "      <th>2</th>\n",
       "      <td>1000113</td>\n",
       "      <td>40919</td>\n",
       "    </tr>\n",
       "    <tr>\n",
       "      <th>3</th>\n",
       "      <td>1177</td>\n",
       "      <td>38497</td>\n",
       "    </tr>\n",
       "    <tr>\n",
       "      <th>4</th>\n",
       "      <td>976</td>\n",
       "      <td>36823</td>\n",
       "    </tr>\n",
       "    <tr>\n",
       "      <th>5</th>\n",
       "      <td>1274</td>\n",
       "      <td>36036</td>\n",
       "    </tr>\n",
       "    <tr>\n",
       "      <th>6</th>\n",
       "      <td>1205</td>\n",
       "      <td>34853</td>\n",
       "    </tr>\n",
       "    <tr>\n",
       "      <th>7</th>\n",
       "      <td>1000024</td>\n",
       "      <td>32337</td>\n",
       "    </tr>\n",
       "    <tr>\n",
       "      <th>8</th>\n",
       "      <td>3327</td>\n",
       "      <td>31951</td>\n",
       "    </tr>\n",
       "    <tr>\n",
       "      <th>9</th>\n",
       "      <td>1034635</td>\n",
       "      <td>31324</td>\n",
       "    </tr>\n",
       "  </tbody>\n",
       "</table>\n",
       "</div>"
      ],
      "text/plain": [
       "         0      1\n",
       "0      979  45630\n",
       "1     4267  43883\n",
       "2  1000113  40919\n",
       "3     1177  38497\n",
       "4      976  36823\n",
       "5     1274  36036\n",
       "6     1205  34853\n",
       "7  1000024  32337\n",
       "8     3327  31951\n",
       "9  1034635  31324"
      ]
     },
     "execution_count": 77,
     "metadata": {},
     "output_type": "execute_result"
    }
   ],
   "source": [
    "pdf"
   ]
  },
  {
   "cell_type": "code",
   "execution_count": 78,
   "metadata": {},
   "outputs": [
    {
     "data": {
      "image/png": "[encoded data removed]",
      "text/plain": [
       "<matplotlib.figure.Figure at 0x117e3ea58>"
      ]
     },
     "metadata": {},
     "output_type": "display_data"
    }
   ],
   "source": [
    "# calculate top-10 artists in term of audience size\n",
    "plt.barh(y_pos, pdf[1][::-1]/uniqueUsers*100, align='center', alpha=0.4)\n",
    "plt.yticks(range(9,-1,-1), pdf[0][::-1])\n",
    "plt.xlabel('Percentage of User Count')\n",
    "plt.ylabel('Artist')\n",
    "plt.title('Top-10 Artist ID per audience size')\n",
    "plt.show()"
   ]
  },
  {
   "cell_type": "code",
   "execution_count": 79,
   "metadata": {},
   "outputs": [
    {
     "data": {
      "image/png": "[encoded data removed]",
      "text/plain": [
       "<matplotlib.figure.Figure at 0x117d33a90>"
      ]
     },
     "metadata": {},
     "output_type": "display_data"
    }
   ],
   "source": [
    "# calculate top 10 users interm of play counts\n",
    "top10UsersByPlayCount = newUserArtistDF.groupBy(\"userID\").sum(\"playCount\").orderBy('sum(playCount)', ascending=0).take(10)\n",
    "\n",
    "y_pos = range(len(top10UsersByPlayCount))\n",
    "pdf = pd.DataFrame(data=top10UsersByPlayCount)\n",
    "\n",
    "plt.barh(y_pos, pdf[1][::-1], align='center', alpha=0.4)\n",
    "plt.yticks(range(9,-1,-1), pdf[0][::-1])\n",
    "plt.xlabel('Play Count')\n",
    "plt.ylabel('User')\n",
    "plt.title('Top-10 Users ID per play counts')\n",
    "plt.show()"
   ]
  },
  {
   "cell_type": "code",
   "execution_count": 80,
   "metadata": {},
   "outputs": [
    {
     "data": {
      "text/html": [
       "<div>\n",
       "<style>\n",
       "    .dataframe thead tr:only-child th {\n",
       "        text-align: right;\n",
       "    }\n",
       "\n",
       "    .dataframe thead th {\n",
       "        text-align: left;\n",
       "    }\n",
       "\n",
       "    .dataframe tbody tr th {\n",
       "        vertical-align: top;\n",
       "    }\n",
       "</style>\n",
       "<table border=\"1\" class=\"dataframe\">\n",
       "  <thead>\n",
       "    <tr style=\"text-align: right;\">\n",
       "      <th></th>\n",
       "      <th>0</th>\n",
       "      <th>1</th>\n",
       "    </tr>\n",
       "  </thead>\n",
       "  <tbody>\n",
       "    <tr>\n",
       "      <th>0</th>\n",
       "      <td>1059637</td>\n",
       "      <td>674412</td>\n",
       "    </tr>\n",
       "    <tr>\n",
       "      <th>1</th>\n",
       "      <td>2064012</td>\n",
       "      <td>548427</td>\n",
       "    </tr>\n",
       "    <tr>\n",
       "      <th>2</th>\n",
       "      <td>2069337</td>\n",
       "      <td>393515</td>\n",
       "    </tr>\n",
       "    <tr>\n",
       "      <th>3</th>\n",
       "      <td>2023977</td>\n",
       "      <td>285978</td>\n",
       "    </tr>\n",
       "    <tr>\n",
       "      <th>4</th>\n",
       "      <td>1046559</td>\n",
       "      <td>183972</td>\n",
       "    </tr>\n",
       "    <tr>\n",
       "      <th>5</th>\n",
       "      <td>1052461</td>\n",
       "      <td>175822</td>\n",
       "    </tr>\n",
       "    <tr>\n",
       "      <th>6</th>\n",
       "      <td>1070932</td>\n",
       "      <td>168977</td>\n",
       "    </tr>\n",
       "    <tr>\n",
       "      <th>7</th>\n",
       "      <td>1031009</td>\n",
       "      <td>167273</td>\n",
       "    </tr>\n",
       "    <tr>\n",
       "      <th>8</th>\n",
       "      <td>2020513</td>\n",
       "      <td>165642</td>\n",
       "    </tr>\n",
       "    <tr>\n",
       "      <th>9</th>\n",
       "      <td>2062243</td>\n",
       "      <td>151504</td>\n",
       "    </tr>\n",
       "  </tbody>\n",
       "</table>\n",
       "</div>"
      ],
      "text/plain": [
       "         0       1\n",
       "0  1059637  674412\n",
       "1  2064012  548427\n",
       "2  2069337  393515\n",
       "3  2023977  285978\n",
       "4  1046559  183972\n",
       "5  1052461  175822\n",
       "6  1070932  168977\n",
       "7  1031009  167273\n",
       "8  2020513  165642\n",
       "9  2062243  151504"
      ]
     },
     "execution_count": 80,
     "metadata": {},
     "output_type": "execute_result"
    }
   ],
   "source": [
    "pdf"
   ]
  },
  {
   "cell_type": "code",
   "execution_count": 81,
   "metadata": {},
   "outputs": [
    {
     "data": {
      "image/png": "[encoded data removed]",
      "text/plain": [
       "<matplotlib.figure.Figure at 0x1182bf358>"
      ]
     },
     "metadata": {},
     "output_type": "display_data"
    }
   ],
   "source": [
    "\n",
    "# calculate top 10 users interm of curiosity# calcul \n",
    "top10UsersByCuriosity = (newUserArtistDF.dropDuplicates(['userID', 'artistID'])\n",
    "                          .groupBy(\"userID\")\n",
    "                          .count()\n",
    "                          .orderBy(\"count\", ascending=0)\n",
    "                          .take(10)\n",
    "                         )\n",
    "\n",
    "y_pos = range(len(top10UsersByCuriosity))\n",
    "pdf = pd.DataFrame(data=top10UsersByCuriosity)\n",
    "\n",
    "plt.barh(y_pos, pdf[1][::-1], align='center', alpha=0.4)\n",
    "plt.yticks(range(9,-1,-1), pdf[0][::-1])\n",
    "plt.xlabel('Artist count')\n",
    "plt.ylabel('user')\n",
    "plt.title('Top-10 User ID per curiosity')\n",
    "plt.show()"
   ]
  },
  {
   "cell_type": "code",
   "execution_count": 82,
   "metadata": {},
   "outputs": [
    {
     "data": {
      "text/html": [
       "<div>\n",
       "<style>\n",
       "    .dataframe thead tr:only-child th {\n",
       "        text-align: right;\n",
       "    }\n",
       "\n",
       "    .dataframe thead th {\n",
       "        text-align: left;\n",
       "    }\n",
       "\n",
       "    .dataframe tbody tr th {\n",
       "        vertical-align: top;\n",
       "    }\n",
       "</style>\n",
       "<table border=\"1\" class=\"dataframe\">\n",
       "  <thead>\n",
       "    <tr style=\"text-align: right;\">\n",
       "      <th></th>\n",
       "      <th>0</th>\n",
       "      <th>1</th>\n",
       "    </tr>\n",
       "  </thead>\n",
       "  <tbody>\n",
       "    <tr>\n",
       "      <th>0</th>\n",
       "      <td>2030067</td>\n",
       "      <td>6735</td>\n",
       "    </tr>\n",
       "    <tr>\n",
       "      <th>1</th>\n",
       "      <td>1024631</td>\n",
       "      <td>6125</td>\n",
       "    </tr>\n",
       "    <tr>\n",
       "      <th>2</th>\n",
       "      <td>1059334</td>\n",
       "      <td>5839</td>\n",
       "    </tr>\n",
       "    <tr>\n",
       "      <th>3</th>\n",
       "      <td>2016026</td>\n",
       "      <td>5773</td>\n",
       "    </tr>\n",
       "    <tr>\n",
       "      <th>4</th>\n",
       "      <td>2023686</td>\n",
       "      <td>4822</td>\n",
       "    </tr>\n",
       "    <tr>\n",
       "      <th>5</th>\n",
       "      <td>1045464</td>\n",
       "      <td>4734</td>\n",
       "    </tr>\n",
       "    <tr>\n",
       "      <th>6</th>\n",
       "      <td>1004584</td>\n",
       "      <td>4690</td>\n",
       "    </tr>\n",
       "    <tr>\n",
       "      <th>7</th>\n",
       "      <td>2010008</td>\n",
       "      <td>4411</td>\n",
       "    </tr>\n",
       "    <tr>\n",
       "      <th>8</th>\n",
       "      <td>2232770</td>\n",
       "      <td>4090</td>\n",
       "    </tr>\n",
       "    <tr>\n",
       "      <th>9</th>\n",
       "      <td>1006093</td>\n",
       "      <td>4005</td>\n",
       "    </tr>\n",
       "  </tbody>\n",
       "</table>\n",
       "</div>"
      ],
      "text/plain": [
       "         0     1\n",
       "0  2030067  6735\n",
       "1  1024631  6125\n",
       "2  1059334  5839\n",
       "3  2016026  5773\n",
       "4  2023686  4822\n",
       "5  1045464  4734\n",
       "6  1004584  4690\n",
       "7  2010008  4411\n",
       "8  2232770  4090\n",
       "9  1006093  4005"
      ]
     },
     "execution_count": 82,
     "metadata": {},
     "output_type": "execute_result"
    }
   ],
   "source": [
    "pdf"
   ]
  },
  {
   "cell_type": "code",
   "execution_count": null,
   "metadata": {
    "collapsed": true
   },
   "outputs": [],
   "source": []
  },
  {
   "cell_type": "code",
   "execution_count": null,
   "metadata": {
    "collapsed": true
   },
   "outputs": [],
   "source": []
  },
  {
   "cell_type": "code",
   "execution_count": null,
   "metadata": {
    "collapsed": true
   },
   "outputs": [],
   "source": []
  },
  {
   "cell_type": "code",
   "execution_count": null,
   "metadata": {
    "collapsed": true
   },
   "outputs": [],
   "source": []
  },
  {
   "cell_type": "code",
   "execution_count": null,
   "metadata": {
    "collapsed": true
   },
   "outputs": [],
   "source": []
  },
  {
   "cell_type": "code",
   "execution_count": null,
   "metadata": {
    "collapsed": true
   },
   "outputs": [],
   "source": []
  }
 ],
 "metadata": {
  "kernelspec": {
   "display_name": "Python 3",
   "language": "python",
   "name": "python3"
  },
  "language_info": {
   "codemirror_mode": {
    "name": "ipython",
    "version": 3
   },
   "file_extension": ".py",
   "mimetype": "text/x-python",
   "name": "python",
   "nbconvert_exporter": "python",
   "pygments_lexer": "ipython3",
   "version": "3.6.1"
  }
 },
 "nbformat": 4,
 "nbformat_minor": 2
}
